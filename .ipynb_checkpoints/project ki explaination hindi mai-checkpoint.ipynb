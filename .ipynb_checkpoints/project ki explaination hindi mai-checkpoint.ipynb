{
 "cells": [
  {
   "cell_type": "code",
   "execution_count": null,
   "id": "07374e79",
   "metadata": {},
   "outputs": [],
   "source": [
    "from flask import Flask, render_template, request,jsonify\n",
    "from flask_cors import CORS,cross_origin\n",
    "import requests\n",
    "from bs4 import BeautifulSoup as bs\n",
    "from urllib.request import urlopen as uReq "
   ]
  },
  {
   "cell_type": "code",
   "execution_count": null,
   "id": "7a1d7082",
   "metadata": {},
   "outputs": [],
   "source": [
    "flipkart_url = \"https://www.flipkart.com/search?q=\" + 'iphone7' "
   ]
  },
  {
   "cell_type": "code",
   "execution_count": null,
   "id": "87d3320f",
   "metadata": {},
   "outputs": [],
   "source": [
    "flipkart_url "
   ]
  },
  {
   "cell_type": "code",
   "execution_count": null,
   "id": "83aa0267",
   "metadata": {},
   "outputs": [],
   "source": [
    "# UReq is the alias of the urlopen and it is available into the package urllib\n",
    "uClient = uReq(flipkart_url) "
   ]
  },
  {
   "cell_type": "code",
   "execution_count": null,
   "id": "8c617661",
   "metadata": {},
   "outputs": [],
   "source": [
    "uClient "
   ]
  },
  {
   "cell_type": "code",
   "execution_count": null,
   "id": "c0e1cc70",
   "metadata": {},
   "outputs": [],
   "source": [
    "# read all the page information available on that page..\n",
    "flipkartPage = uClient.read() "
   ]
  },
  {
   "cell_type": "code",
   "execution_count": null,
   "id": "850f9c69",
   "metadata": {},
   "outputs": [],
   "source": [
    "flipkartPage # it is like view page resource"
   ]
  },
  {
   "cell_type": "code",
   "execution_count": null,
   "id": "5173a52e",
   "metadata": {},
   "outputs": [],
   "source": [
    "uClient.close() "
   ]
  },
  {
   "cell_type": "code",
   "execution_count": null,
   "id": "71cf5a27",
   "metadata": {},
   "outputs": [],
   "source": [
    "# beautiful soap(bs) html ke page ko thorda structure format pe le aata hai...\n",
    "flipkart_html = bs(flipkartPage, \"html.parser\") "
   ]
  },
  {
   "cell_type": "code",
   "execution_count": null,
   "id": "3e4ae5ef",
   "metadata": {},
   "outputs": [],
   "source": [
    "flipkart_html "
   ]
  },
  {
   "cell_type": "code",
   "execution_count": null,
   "id": "83697087",
   "metadata": {},
   "outputs": [],
   "source": [
    "# filter the class  \n",
    "bigboxes = flipkart_html.findAll(\"div\", {\"class\": \"_1AtVbE col-12-12\"})  "
   ]
  },
  {
   "cell_type": "code",
   "execution_count": null,
   "id": "3ded1de7",
   "metadata": {},
   "outputs": [],
   "source": [
    "# del the bigboxes data from 0 to 2 which r not required \n",
    "del bigboxes[0:3] "
   ]
  },
  {
   "cell_type": "code",
   "execution_count": null,
   "id": "5e81c6ee",
   "metadata": {},
   "outputs": [],
   "source": [
    "# ab jo boxes bache h , 3 del krne ke baad uska 1st element 1 print kr do \n",
    "box = bigboxes[0]"
   ]
  },
  {
   "cell_type": "code",
   "execution_count": null,
   "id": "e9e03b8c",
   "metadata": {},
   "outputs": [],
   "source": [
    "box "
   ]
  },
  {
   "cell_type": "code",
   "execution_count": null,
   "id": "231c98d3",
   "metadata": {},
   "outputs": [],
   "source": [
    "# no. of mobile phones present in the page \n",
    "len(bigboxes) "
   ]
  },
  {
   "cell_type": "markdown",
   "id": "9cd78462",
   "metadata": {},
   "source": [
    " use of href tag<br>\n",
    "    The HTML <a> href Attribute is used to specify the URL of the page that the link goes to. When the href attribute is not present in the <a> an element that it will not be a hyperlink. This attribute is used to specify a link to any address."
   ]
  },
  {
   "cell_type": "code",
   "execution_count": null,
   "id": "57231ac7",
   "metadata": {},
   "outputs": [],
   "source": [
    "# ab suppose humko a ke href pe jaana hai, jo andar ke div me present hai.  \n",
    "productLink = \"https://www.flipkart.com\" + box.div.div.div.a['href']"
   ]
  },
  {
   "cell_type": "code",
   "execution_count": null,
   "id": "5024c42e",
   "metadata": {},
   "outputs": [],
   "source": [
    "productLink "
   ]
  },
  {
   "cell_type": "code",
   "execution_count": null,
   "id": "087f09bc",
   "metadata": {},
   "outputs": [],
   "source": [
    "# abhi hum yaha taq aa gye hai...\n",
    "from IPython.display import Image\n",
    "Image(url= \"flipkart mobile ki pic.jpg\", width=600, height=600) "
   ]
  },
  {
   "cell_type": "markdown",
   "id": "2c986070",
   "metadata": {},
   "source": [
    "### utf-8 :- it deals with the english charcter represtation... "
   ]
  },
  {
   "cell_type": "code",
   "execution_count": null,
   "id": "7f901bbc",
   "metadata": {},
   "outputs": [],
   "source": [
    "# ab hum yeh page par pahuch gaye hai, ab hum is page ka pura data lenge\n",
    "prodRes = requests.get(productLink)\n",
    "prodRes.encoding='utf-8'"
   ]
  },
  {
   "cell_type": "code",
   "execution_count": null,
   "id": "33126dd9",
   "metadata": {},
   "outputs": [],
   "source": [
    "# respond 200 mila means hum us url pe hit karke data nikal paa rhe h, warna 404 ya 500 error milta...\n",
    "prodRes "
   ]
  },
  {
   "cell_type": "code",
   "execution_count": null,
   "id": "e5ec0b28",
   "metadata": {},
   "outputs": [],
   "source": [
    "# beautiful soap(bs) html ke page ko thorda structure format pe le aata hai...\n",
    "prod_html = bs(prodRes.text, \"html.parser\")\n",
    "print(prod_html) "
   ]
  },
  {
   "cell_type": "code",
   "execution_count": null,
   "id": "a5397c51",
   "metadata": {},
   "outputs": [],
   "source": [
    "# reaching to comment section \n",
    "commentboxes = prod_html.find_all('div', {'class': \"_16PBlm\"})"
   ]
  },
  {
   "cell_type": "code",
   "execution_count": null,
   "id": "d5e37555",
   "metadata": {},
   "outputs": [],
   "source": [
    "commentboxes "
   ]
  },
  {
   "cell_type": "code",
   "execution_count": null,
   "id": "48a2ca56",
   "metadata": {},
   "outputs": [],
   "source": [
    "# comments on the pages \n",
    "len(commentboxes)"
   ]
  },
  {
   "cell_type": "code",
   "execution_count": null,
   "id": "43999af5",
   "metadata": {},
   "outputs": [],
   "source": [
    "# pehla comment(review)\n",
    "commentboxes[0] "
   ]
  },
  {
   "cell_type": "code",
   "execution_count": null,
   "id": "37f0e267",
   "metadata": {},
   "outputs": [],
   "source": [
    "# extracting 1st name\n",
    "name = commentboxes[0].div.div.find_all('p', {'class': '_2sc7ZR _2V5EHH'})[0].text"
   ]
  },
  {
   "cell_type": "code",
   "execution_count": null,
   "id": "b108fff2",
   "metadata": {},
   "outputs": [],
   "source": [
    "name "
   ]
  },
  {
   "cell_type": "code",
   "execution_count": null,
   "id": "e9a78191",
   "metadata": {},
   "outputs": [],
   "source": [
    "#rating \n",
    "rating = commentboxes[0].div.div.div.div.text"
   ]
  },
  {
   "cell_type": "code",
   "execution_count": null,
   "id": "b8041848",
   "metadata": {},
   "outputs": [],
   "source": [
    "rating "
   ]
  },
  {
   "cell_type": "code",
   "execution_count": null,
   "id": "05dac3ad",
   "metadata": {},
   "outputs": [],
   "source": [
    "# comment header\n",
    "commentHead = commentboxes[0].div.div.div.p.text"
   ]
  },
  {
   "cell_type": "code",
   "execution_count": null,
   "id": "d95bc088",
   "metadata": {},
   "outputs": [],
   "source": [
    "commentHead"
   ]
  },
  {
   "cell_type": "code",
   "execution_count": null,
   "id": "91241ec2",
   "metadata": {},
   "outputs": [],
   "source": [
    "# user comment\n",
    "comtag = commentboxes[0].div.div.find_all('div', {'class': ''})"
   ]
  },
  {
   "cell_type": "code",
   "execution_count": null,
   "id": "605a8847",
   "metadata": {},
   "outputs": [],
   "source": [
    "comtag "
   ]
  },
  {
   "cell_type": "code",
   "execution_count": null,
   "id": "244fa14a",
   "metadata": {},
   "outputs": [],
   "source": [
    "custComment = comtag[0].div.text "
   ]
  },
  {
   "cell_type": "code",
   "execution_count": null,
   "id": "4d9940a2",
   "metadata": {},
   "outputs": [],
   "source": [
    "custComment "
   ]
  },
  {
   "cell_type": "code",
   "execution_count": null,
   "id": "9cb23af1",
   "metadata": {},
   "outputs": [],
   "source": [
    "#### Integeration of all extracted all parts..\n"
   ]
  },
  {
   "cell_type": "code",
   "execution_count": null,
   "id": "c672d479",
   "metadata": {},
   "outputs": [],
   "source": [
    "!python --version"
   ]
  },
  {
   "cell_type": "raw",
   "id": "35be057d",
   "metadata": {},
   "source": [
    "# commands to create env\n",
    "\n",
    "conda env list\n",
    "pip create -n envname python==3.6.9\n",
    "conda activate envname\n",
    "pip install jupyter notebook\n",
    "\n",
    "# go to a location of requirements.txt then execute below command\n",
    "# for confirmation of requirements.txt you can execute below command\n",
    "\n",
    "dir\n",
    "pip install -r requirements.txt"
   ]
  }
 ],
 "metadata": {
  "kernelspec": {
   "display_name": "Python 3",
   "language": "python",
   "name": "python3"
  },
  "language_info": {
   "codemirror_mode": {
    "name": "ipython",
    "version": 3
   },
   "file_extension": ".py",
   "mimetype": "text/x-python",
   "name": "python",
   "nbconvert_exporter": "python",
   "pygments_lexer": "ipython3",
   "version": "3.6.9"
  }
 },
 "nbformat": 4,
 "nbformat_minor": 5
}
